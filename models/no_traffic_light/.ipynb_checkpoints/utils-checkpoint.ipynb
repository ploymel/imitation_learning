{
 "cells": [
  {
   "cell_type": "code",
   "execution_count": 13,
   "metadata": {},
   "outputs": [],
   "source": [
    "import sys\n",
    "import cv2, os\n",
    "import numpy as np\n",
    "import matplotlib.image as mpimg\n",
    "import matplotlib.pyplot as plt\n",
    "from imgaug import augmenters as iaa\n",
    "from imgaug import parameters as iap"
   ]
  },
  {
   "cell_type": "code",
   "execution_count": 1,
   "metadata": {},
   "outputs": [],
   "source": [
    "def load_image(image_file):\n",
    "    \"\"\"\n",
    "    Load RGB images from a file.\n",
    "    \"\"\"\n",
    "    return mpimg.imread('../../' + os.path.join(image_file.strip()))"
   ]
  },
  {
   "cell_type": "code",
   "execution_count": 15,
   "metadata": {},
   "outputs": [],
   "source": [
    "def show_image(image):\n",
    "    \"\"\"\n",
    "    Show image.\n",
    "    \"\"\"\n",
    "    plt.imshow(image)"
   ]
  },
  {
   "cell_type": "code",
   "execution_count": 16,
   "metadata": {},
   "outputs": [],
   "source": [
    "def random_brightness(image):\n",
    "    \"\"\"\n",
    "    Randomly adjust brightness of the image.\n",
    "    \"\"\"\n",
    "    # HSV (Hue, Saturation, Value) is also called HSB ('B' for Brightness).\n",
    "    hsv = cv2.cvtColor(image, cv2.COLOR_RGB2HSV)\n",
    "    ratio = 1.0 + 0.4 * (np.random.rand() - 0.5)\n",
    "    hsv[:,:,2] =  hsv[:,:,2] * ratio\n",
    "    return cv2.cvtColor(hsv, cv2.COLOR_HSV2RGB)"
   ]
  },
  {
   "cell_type": "code",
   "execution_count": 17,
   "metadata": {},
   "outputs": [],
   "source": [
    "def random_contrast(image):\n",
    "    \"\"\"\n",
    "    Randomly add contrast to the image.\n",
    "    \"\"\"\n",
    "    contrast = iaa.GammaContrast((0.1, 1.5))\n",
    "    return contrast.augment_image(image)"
   ]
  },
  {
   "cell_type": "code",
   "execution_count": 18,
   "metadata": {},
   "outputs": [],
   "source": [
    "def random_sharpen(image):\n",
    "    \"\"\"\n",
    "    Randomly add shapen to the image.\n",
    "    \"\"\"\n",
    "    sharpen = iaa.Sharpen(alpha=(0.1, 0.5))\n",
    "    return sharpen.augment_image(image)"
   ]
  },
  {
   "cell_type": "code",
   "execution_count": 19,
   "metadata": {},
   "outputs": [],
   "source": [
    "def random_addition_augment(image):\n",
    "    \"\"\"\n",
    "    Randomly choose addition augment to perform.\n",
    "    - Salt and Pepper Noise\n",
    "    - Gaussian Blur\n",
    "    - \n",
    "    \"\"\"\n",
    "    aug = iaa.OneOf([\n",
    "        iaa.SaltAndPepper(p=(0.01, 0.03)),\n",
    "        iaa.GaussianBlur(iap.Uniform(0.1, 2.0)),\n",
    "        iaa.Dropout(p=(0.01, 0.1)),\n",
    "        iaa.Noop()\n",
    "    ])\n",
    "    return aug.augment_image(image)"
   ]
  },
  {
   "cell_type": "code",
   "execution_count": 20,
   "metadata": {},
   "outputs": [],
   "source": [
    "def rgb2yuv(image):\n",
    "    \"\"\"\n",
    "    Convert the image from RGB to YUV (This is what the NVIDIA model does)\n",
    "    \"\"\"\n",
    "    return cv2.cvtColor(image, cv2.COLOR_RGB2YUV)"
   ]
  },
  {
   "cell_type": "code",
   "execution_count": 21,
   "metadata": {},
   "outputs": [],
   "source": [
    "def resize(image):\n",
    "    \"\"\"\n",
    "    Resize the image to the input shape used by the network model\n",
    "    \"\"\"\n",
    "    IMAGE_HEIGHT, IMAGE_WIDTH, IMAGE_CHANNELS = 180, 300, 3\n",
    "    return cv2.resize(image, (IMAGE_WIDTH, IMAGE_HEIGHT), cv2.INTER_AREA)"
   ]
  },
  {
   "cell_type": "code",
   "execution_count": 26,
   "metadata": {},
   "outputs": [],
   "source": [
    "def augument(image):\n",
    "    \"\"\"\n",
    "    We perform augumentation. Transformations include change in contrast, and brightness,\n",
    "    as well as addition of Gaussian blur, Gaussian noise, salt-and pepper noise and region dropout.\n",
    "    \"\"\"\n",
    "    image = load_image(image)\n",
    "    image = random_contrast(image)\n",
    "    image = random_brightness(image)\n",
    "    image = random_sharpen(image)\n",
    "    image = random_addition_augment(image)\n",
    "    return image"
   ]
  },
  {
   "cell_type": "code",
   "execution_count": 22,
   "metadata": {},
   "outputs": [],
   "source": [
    "def make_data_per_set_equal(args, X_train, Y_train):\n",
    "    num_per_set = int(args['samples_per_epoch']/4)\n",
    "    list_indexes = np.random.permutation(len(X_train))\n",
    "    if len(X_train) >= num_per_set:\n",
    "        X = []\n",
    "        Y = []\n",
    "        for i in range(len(list_indexes)):\n",
    "            X.append(X_train[list_indexes[i]])\n",
    "            Y.append(Y_train[list_indexes[i]])\n",
    "        return X[:num_per_set], Y[:num_per_set]\n",
    "    X = X_train[:]\n",
    "    Y = Y_train[:]\n",
    "    index = 0\n",
    "    for i in range(len(X), num_per_set):\n",
    "        if index >= len(X):\n",
    "            list_indexes = np.random.permutation(len(X))\n",
    "            index = 0\n",
    "        X_train.append(X[list_indexes[index]])\n",
    "        Y_train.append(Y[list_indexes[index]])\n",
    "        index += 1\n",
    "    return X_train, Y_train"
   ]
  },
  {
   "cell_type": "code",
   "execution_count": 1,
   "metadata": {},
   "outputs": [],
   "source": [
    "def balance_dataset(args, X_train, Y_train):\n",
    "    index = 0\n",
    "    X_lanefollow = []\n",
    "    Y_lanefollow = []\n",
    "    \n",
    "    X_left = []\n",
    "    Y_left = []\n",
    "    \n",
    "    X_right = []\n",
    "    Y_right = []\n",
    "    \n",
    "    X_straight = []\n",
    "    Y_straight = []\n",
    "    \n",
    "    for x in X_train:\n",
    "        if x[2] == 1:\n",
    "            X_lanefollow.append(X_train[index])\n",
    "            Y_lanefollow.append(Y_train[index])\n",
    "        elif x[3] == 1:\n",
    "            X_straight.append(X_train[index])\n",
    "            Y_straight.append(Y_train[index])\n",
    "        elif x[4] == 1:\n",
    "            X_right.append(X_train[index])\n",
    "            Y_right.append(Y_train[index])\n",
    "        elif x[5] == 1:\n",
    "            X_left.append(X_train[index])\n",
    "            Y_left.append(Y_train[index])\n",
    "        index += 1\n",
    "    \n",
    "    X_train = []\n",
    "    Y_train = []\n",
    "    X_lanefollow, Y_lanefollow = make_data_per_set_equal(args, X_lanefollow, Y_lanefollow)\n",
    "    X_straight, Y_straight = make_data_per_set_equal(args, X_straight, Y_straight)\n",
    "    X_right, Y_right = make_data_per_set_equal(args, X_right, Y_right)\n",
    "    X_left, Y_left = make_data_per_set_equal(args, X_left, Y_left)\n",
    "    \n",
    "    X_train.extend(X_lanefollow)\n",
    "    X_train.extend(X_straight)\n",
    "    X_train.extend(X_right)\n",
    "    X_train.extend(X_left)\n",
    "    \n",
    "    Y_train.extend(Y_lanefollow)\n",
    "    Y_train.extend(Y_straight)\n",
    "    Y_train.extend(Y_right)\n",
    "    Y_train.extend(Y_left)\n",
    "    \n",
    "    X_train = np.array(X_train)\n",
    "    Y_train = np.array(Y_train)\n",
    "    \n",
    "    return X_train, Y_train"
   ]
  },
  {
   "cell_type": "code",
   "execution_count": 5,
   "metadata": {},
   "outputs": [],
   "source": [
    "def batch_generator(inputs_data, controls_data, batch_size, is_training, args):\n",
    "    \"\"\"\n",
    "    Generate training image give inputs data and associated controls\n",
    "    \"\"\"\n",
    "    IMAGE_HEIGHT, IMAGE_WIDTH, IMAGE_CHANNELS = 180, 300, 3\n",
    "    CONTROL_ARGUMENTS = 3 # throttle, steer, brake\n",
    "    inputs_image = np.empty([batch_size, IMAGE_HEIGHT, IMAGE_WIDTH, IMAGE_CHANNELS])\n",
    "    inputs_speed = np.empty([batch_size])\n",
    "    inputs_cmd = np.empty([batch_size, 4])\n",
    "    controls = np.empty([batch_size, CONTROL_ARGUMENTS])\n",
    "    current_idx_of_list_indexes = 0\n",
    "    step = 0\n",
    "    if is_training:\n",
    "        X, Y = balance_dataset(args, inputs_data, controls_data)\n",
    "        list_indexes = np.random.permutation(X.shape[0])\n",
    "    else:\n",
    "        X = inputs_data[:]\n",
    "        Y = controls_data[:]\n",
    "        list_indexes = np.random.permutation(X.shape[0])\n",
    "        \n",
    "    print(X.shape)\n",
    "    print(Y.shape)\n",
    "    \n",
    "    while True:\n",
    "        if step >= int(args['samples_per_epoch']/40) and is_training:\n",
    "            step = 0\n",
    "            X, Y = balance_dataset(args, inputs_data, controls_data)\n",
    "            list_indexes = np.random.permutation(X.shape[0])\n",
    "        for i in range(batch_size):\n",
    "            if current_idx_of_list_indexes >= X.shape[0]:\n",
    "                current_idx_of_list_indexes = 0\n",
    "            image, speed, cmd1, cmd2, cmd3, cmd4 = X[list_indexes[current_idx_of_list_indexes]]\n",
    "            throttle, steer, brake = Y[list_indexes[current_idx_of_list_indexes]]\n",
    "            throttle, steer, brake = float(throttle), float(steer), float(brake)\n",
    "            speed = float(speed)/20\n",
    "            # argumentation\n",
    "            try:\n",
    "                if is_training and np.random.rand() < 0.6:\n",
    "                    image = augument(image)\n",
    "                else:\n",
    "                    image = load_image(image) \n",
    "            except:\n",
    "                continue\n",
    "            # add the image and other inputs and controls to the batch\n",
    "\n",
    "            # scale input\n",
    "            image = resize(image)\n",
    "            image = image.astype(np.float32)\n",
    "            inputs_image[i] = image\n",
    "            inputs_speed[i] = speed\n",
    "            inputs_cmd[i] = [cmd1, cmd2, cmd3, cmd4]\n",
    "            controls[i] = [throttle, steer, brake]\n",
    "            \n",
    "            current_idx_of_list_indexes += 1\n",
    "            \n",
    "        step += 1\n",
    "\n",
    "        yield [inputs_image, inputs_speed.reshape(-1,1), inputs_cmd], controls"
   ]
  },
  {
   "cell_type": "code",
   "execution_count": null,
   "metadata": {},
   "outputs": [],
   "source": []
  }
 ],
 "metadata": {
  "kernelspec": {
   "display_name": "Python 3",
   "language": "python",
   "name": "python3"
  },
  "language_info": {
   "codemirror_mode": {
    "name": "ipython",
    "version": 3
   },
   "file_extension": ".py",
   "mimetype": "text/x-python",
   "name": "python",
   "nbconvert_exporter": "python",
   "pygments_lexer": "ipython3",
   "version": "3.5.6"
  }
 },
 "nbformat": 4,
 "nbformat_minor": 2
}
