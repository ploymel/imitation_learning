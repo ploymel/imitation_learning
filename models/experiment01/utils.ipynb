{
 "cells": [
  {
   "cell_type": "code",
   "execution_count": 15,
   "metadata": {},
   "outputs": [],
   "source": [
    "import sys\n",
    "import cv2, os\n",
    "import numpy as np\n",
    "import matplotlib.image as mpimg\n",
    "import matplotlib.pyplot as plt\n",
    "from imgaug import augmenters as iaa\n",
    "from imgaug import parameters as iap"
   ]
  },
  {
   "cell_type": "code",
   "execution_count": 1,
   "metadata": {},
   "outputs": [],
   "source": [
    "def load_image(image_file):\n",
    "    \"\"\"\n",
    "    Load RGB images from a file.\n",
    "    \"\"\"\n",
    "    return mpimg.imread('../../' + os.path.join(image_file.strip()))"
   ]
  },
  {
   "cell_type": "code",
   "execution_count": 17,
   "metadata": {},
   "outputs": [],
   "source": [
    "def show_image(image):\n",
    "    \"\"\"\n",
    "    Show image.\n",
    "    \"\"\"\n",
    "    plt.imshow(image)"
   ]
  },
  {
   "cell_type": "code",
   "execution_count": 18,
   "metadata": {},
   "outputs": [],
   "source": [
    "def random_brightness(image):\n",
    "    \"\"\"\n",
    "    Randomly adjust brightness of the image.\n",
    "    \"\"\"\n",
    "    # HSV (Hue, Saturation, Value) is also called HSB ('B' for Brightness).\n",
    "    hsv = cv2.cvtColor(image, cv2.COLOR_RGB2HSV)\n",
    "    ratio = 1.0 + 0.4 * (np.random.rand() - 0.5)\n",
    "    hsv[:,:,2] =  hsv[:,:,2] * ratio\n",
    "    return cv2.cvtColor(hsv, cv2.COLOR_HSV2RGB)"
   ]
  },
  {
   "cell_type": "code",
   "execution_count": 19,
   "metadata": {},
   "outputs": [],
   "source": [
    "def random_contrast(image):\n",
    "    \"\"\"\n",
    "    Randomly add contrast to the image.\n",
    "    \"\"\"\n",
    "    contrast = iaa.GammaContrast((0.1, 1.5))\n",
    "    return contrast.augment_image(image)"
   ]
  },
  {
   "cell_type": "code",
   "execution_count": 20,
   "metadata": {},
   "outputs": [],
   "source": [
    "def random_sharpen(image):\n",
    "    \"\"\"\n",
    "    Randomly add shapen to the image.\n",
    "    \"\"\"\n",
    "    sharpen = iaa.Sharpen(alpha=(0.1, 0.5))\n",
    "    return sharpen.augment_image(image)"
   ]
  },
  {
   "cell_type": "code",
   "execution_count": 21,
   "metadata": {},
   "outputs": [],
   "source": [
    "def random_addition_augment(image):\n",
    "    \"\"\"\n",
    "    Randomly choose addition augment to perform.\n",
    "    - Salt and Pepper Noise\n",
    "    - Gaussian Blur\n",
    "    - \n",
    "    \"\"\"\n",
    "    aug = iaa.OneOf([\n",
    "        iaa.SaltAndPepper(p=(0.01, 0.03)),\n",
    "        iaa.GaussianBlur(iap.Uniform(0.1, 2.0)),\n",
    "        iaa.Dropout(p=(0.01, 0.1)),\n",
    "        iaa.Noop()\n",
    "    ])\n",
    "    return aug.augment_image(image)"
   ]
  },
  {
   "cell_type": "code",
   "execution_count": 22,
   "metadata": {},
   "outputs": [],
   "source": [
    "def rgb2yuv(image):\n",
    "    \"\"\"\n",
    "    Convert the image from RGB to YUV (This is what the NVIDIA model does)\n",
    "    \"\"\"\n",
    "    return cv2.cvtColor(image, cv2.COLOR_RGB2YUV)"
   ]
  },
  {
   "cell_type": "code",
   "execution_count": 23,
   "metadata": {},
   "outputs": [],
   "source": [
    "def resize(image):\n",
    "    \"\"\"\n",
    "    Resize the image to the input shape used by the network model\n",
    "    \"\"\"\n",
    "    IMAGE_HEIGHT, IMAGE_WIDTH, IMAGE_CHANNELS = 66, 200, 3\n",
    "    return cv2.resize(image, (IMAGE_WIDTH, IMAGE_HEIGHT), cv2.INTER_AREA)"
   ]
  },
  {
   "cell_type": "code",
   "execution_count": 24,
   "metadata": {},
   "outputs": [],
   "source": [
    "def preprocess(image):\n",
    "    \"\"\"\n",
    "    Combine all preprocess functions into one\n",
    "    \"\"\"\n",
    "    image = resize(image)\n",
    "    image = rgb2yuv(image)\n",
    "    return image"
   ]
  },
  {
   "cell_type": "code",
   "execution_count": 25,
   "metadata": {},
   "outputs": [],
   "source": [
    "def augument(image):\n",
    "    \"\"\"\n",
    "    We perform augumentation. Transformations include change in contrast, and brightness,\n",
    "    as well as addition of Gaussian blur, Gaussian noise, salt-and pepper noise and region dropout.\n",
    "    \"\"\"\n",
    "    image = load_image(image)\n",
    "    image = random_contrast(image)\n",
    "    image = random_brightness(image)\n",
    "    image = random_sharpen(image)\n",
    "    image = random_addition_augment(image)\n",
    "    return image"
   ]
  },
  {
   "cell_type": "code",
   "execution_count": 38,
   "metadata": {},
   "outputs": [],
   "source": [
    "def batch_generator(inputs_data, controls_data, batch_size, is_training):\n",
    "    \"\"\"\n",
    "    Generate training image give inputs data and associated controls\n",
    "    \"\"\"\n",
    "    IMAGE_HEIGHT, IMAGE_WIDTH, IMAGE_CHANNELS = 66, 200, 3\n",
    "    CONTROL_ARGUMENTS = 3 # throttle, steer, brake\n",
    "    inputs_image = np.empty([batch_size, IMAGE_HEIGHT, IMAGE_WIDTH, IMAGE_CHANNELS])\n",
    "    inputs_speed = np.empty([batch_size])\n",
    "    inputs_cmd = np.empty([batch_size])\n",
    "    controls = np.empty([batch_size, CONTROL_ARGUMENTS])\n",
    "    count = 0\n",
    "    while True:\n",
    "        count = 1\n",
    "        i = 0\n",
    "        for index_folder in np.random.permutation(4):\n",
    "            for index in np.random.permutation(inputs_data[index_folder].shape[0]):\n",
    "                image, speed, cmd = inputs_data[index_folder][index]\n",
    "                throttle, steer, brake = controls_data[index_folder][index]\n",
    "                throttle, steer, brake = float(throttle), float(steer), float(brake)\n",
    "                speed, cmd = float(speed)/100, int(cmd)/10\n",
    "                # argumentation\n",
    "                try:\n",
    "                    if is_training and np.random.rand() < 0.6:\n",
    "                        image = augument(image)\n",
    "                    else:\n",
    "                        image = load_image(image) \n",
    "                except:\n",
    "                    continue\n",
    "                # add the image and other inputs and controls to the batch\n",
    "\n",
    "                # scale input\n",
    "                image = preprocess(image)\n",
    "                image = image.astype(np.float32)\n",
    "                image = np.multiply(image, 1.0 / 255.0)\n",
    "                inputs_image[i] = image\n",
    "                inputs_speed[i] = speed\n",
    "                inputs_cmd[i] = cmd\n",
    "                controls[i] = [throttle*0.25, steer*0.25, brake*0.25]\n",
    "                i += 1\n",
    "\n",
    "                if i == batch_size/4 * count:\n",
    "                    count += 1\n",
    "                    break\n",
    "        yield [inputs_image, inputs_speed.reshape(-1,1), inputs_cmd.reshape(-1,1)], controls"
   ]
  },
  {
   "cell_type": "code",
   "execution_count": null,
   "metadata": {},
   "outputs": [],
   "source": []
  }
 ],
 "metadata": {
  "kernelspec": {
   "display_name": "Python 3",
   "language": "python",
   "name": "python3"
  },
  "language_info": {
   "codemirror_mode": {
    "name": "ipython",
    "version": 3
   },
   "file_extension": ".py",
   "mimetype": "text/x-python",
   "name": "python",
   "nbconvert_exporter": "python",
   "pygments_lexer": "ipython3",
   "version": "3.5.5"
  }
 },
 "nbformat": 4,
 "nbformat_minor": 2
}
